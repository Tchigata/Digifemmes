{
 "cells": [
  {
   "cell_type": "code",
   "execution_count": 2,
   "id": "a8c5abea",
   "metadata": {},
   "outputs": [
    {
     "name": "stdout",
     "output_type": "stream",
     "text": [
      "DataFrame à partir d'un tableau NumPy :\n",
      "     couleur    liste nombre\n",
      "0  1    Bleu   [1, 2]    1.1\n",
      "1  3   Rouge   [3, 4]    2.2\n",
      "2  5    Rose   [5, 6]    3.3\n",
      "3  7    Gris   [7, 8]    4.4\n",
      "4  9    Noir  [9, 10]    5.5\n",
      "\n",
      "Types des colonnes (NumPy) :\n",
      "           object\n",
      "couleur    object\n",
      "liste      object\n",
      "nombre     object\n",
      "dtype: object\n",
      "\n",
      "Types de la première valeur de chaque colonne (NumPy) :\n",
      "             <class 'int'>\n",
      "couleur      <class 'str'>\n",
      "liste       <class 'list'>\n",
      "nombre     <class 'float'>\n",
      "Name: 0, dtype: object\n",
      "\n",
      "DataFrame à partir de séries Pandas :\n",
      "     couleur    liste  nombre\n",
      "0  1    Bleu   [1, 2]     1.1\n",
      "1  3   Rouge   [3, 4]     2.2\n",
      "2  5    Rose   [5, 6]     3.3\n",
      "3  7    Gris   [7, 8]     4.4\n",
      "4  9    Noir  [9, 10]     5.5\n",
      "\n",
      "Types des colonnes (Séries) :\n",
      "             int64\n",
      "couleur     object\n",
      "liste       object\n",
      "nombre     float64\n",
      "dtype: object\n",
      "\n",
      "Types de la première valeur de chaque colonne (Séries) :\n",
      "             <class 'numpy.int64'>\n",
      "couleur              <class 'str'>\n",
      "liste               <class 'list'>\n",
      "nombre     <class 'numpy.float64'>\n",
      "Name: 0, dtype: object\n"
     ]
    }
   ],
   "source": [
    "#Exercice 1\n",
    "\n",
    "import pandas as pd\n",
    "import numpy as np\n",
    "\n",
    "############################ Création d'un tableau NumPy #################################################\n",
    "# Créer un tableau NumPy avec dtype=object\n",
    "data_numpy = np.array([\n",
    "    [1 ,'Bleu', [1, 2], 1.1],\n",
    "    [3 , 'Rouge', [3, 4], 2.2],\n",
    "    [5 , 'Rose', [5, 6], 3.3],\n",
    "    [7 , 'Gris', [7, 8], 4.4],\n",
    "    [9, 'Noir', [9, 10], 5.5]\n",
    "], dtype=object)\n",
    "\n",
    "# Créer le DataFrame\n",
    "df_numpy = pd.DataFrame(data_numpy, columns=[' ','couleur', 'liste', 'nombre'])\n",
    "\n",
    "# Afficher le DataFrame\n",
    "print(\"DataFrame à partir d'un tableau NumPy :\")\n",
    "print(df_numpy)\n",
    "# Afficher les types de chaque colonne pour le DataFrame NumPy\n",
    "print(\"\\nTypes des colonnes (NumPy) :\")\n",
    "print(df_numpy.dtypes)\n",
    "print(\"\\nTypes de la première valeur de chaque colonne (NumPy) :\")\n",
    "print(df_numpy.iloc[0].apply(type))\n",
    "\n",
    "\n",
    "############################ Création d'une serie pandas #################################################\n",
    "# Créer des séries pour chaque colonne\n",
    "vide = pd.Series([1 , 3 , 5 , 7 , 9])\n",
    "couleur = pd.Series(['Bleu', 'Rouge', 'Rose', 'Gris', 'Noir'])\n",
    "liste = pd.Series([[1, 2], [3, 4], [5, 6], [7, 8], [9, 10]])\n",
    "nombre = pd.Series([1.1, 2.2, 3.3, 4.4, 5.5])\n",
    "\n",
    "# Créer le DataFrame\n",
    "df_series = pd.DataFrame({'': vide, 'couleur': couleur, 'liste': liste, 'nombre': nombre})\n",
    "\n",
    "# Afficher le DataFrame\n",
    "print(\"\\nDataFrame à partir de séries Pandas :\")\n",
    "print(df_series)\n",
    "\n",
    "# Afficher les types de chaque colonne pour le DataFrame de séries\n",
    "print(\"\\nTypes des colonnes (Séries) :\")\n",
    "print(df_series.dtypes)\n",
    "print(\"\\nTypes de la première valeur de chaque colonne (Séries) :\")\n",
    "print(df_series.iloc[0].apply(type))"
   ]
  },
  {
   "cell_type": "code",
   "execution_count": 3,
   "id": "ef818223-28ce-4847-93e0-8ddb36c32053",
   "metadata": {},
   "outputs": [
    {
     "name": "stderr",
     "output_type": "stream",
     "text": [
      "/tmp/ipykernel_4660/3275652583.py:7: DtypeWarning: Columns (2,3,4,5,6,7) have mixed types. Specify dtype option on import or set low_memory=False.\n",
      "  df = pd.read_csv('https://assets.01-edu.org/ai-branch/piscine-ai/household_power_consumption.txt', sep=';', parse_dates=['Date'], dayfirst=True)\n"
     ]
    },
    {
     "name": "stdout",
     "output_type": "stream",
     "text": [
      "        Date      Time Global_active_power Global_reactive_power  Voltage  \\\n",
      "0 2006-12-16  17:24:00               4.216                 0.418  234.840   \n",
      "1 2006-12-16  17:25:00               5.360                 0.436  233.630   \n",
      "2 2006-12-16  17:26:00               5.374                 0.498  233.290   \n",
      "3 2006-12-16  17:27:00               5.388                 0.502  233.740   \n",
      "4 2006-12-16  17:28:00               3.666                 0.528  235.680   \n",
      "\n",
      "  Global_intensity Sub_metering_1 Sub_metering_2  Sub_metering_3  \n",
      "0           18.400          0.000          1.000            17.0  \n",
      "1           23.000          0.000          1.000            16.0  \n",
      "2           23.000          0.000          2.000            17.0  \n",
      "3           23.000          0.000          1.000            17.0  \n",
      "4           15.800          0.000          1.000            17.0  \n"
     ]
    }
   ],
   "source": [
    "#Exercice 2\n",
    "#Étape 1 : Charger les données\n",
    "\n",
    "import pandas as pd\n",
    "\n",
    "# Charger l'ensemble de données (remplacez 'your_dataset.csv' par le chemin de votre fichier)\n",
    "df = pd.read_csv('https://assets.01-edu.org/ai-branch/piscine-ai/household_power_consumption.txt', sep=';', parse_dates=['Date'], dayfirst=True)\n",
    "\n",
    "# Afficher les premières lignes pour vérifier le chargement\n",
    "print(df.head())\n"
   ]
  },
  {
   "cell_type": "code",
   "execution_count": 4,
   "id": "f56e3166-03f3-44ad-9a93-143253b48a18",
   "metadata": {},
   "outputs": [],
   "source": [
    "#Étape 2 : Supprimer les colonnes et définir l'index\n",
    "# Supprimer les colonnes Time, Sub_metering_2 et Sub_metering_3\n",
    "df = df.drop(columns=['Time', 'Sub_metering_2', 'Sub_metering_3'])\n",
    "\n",
    "# Définir Date comme index\n",
    "df.set_index('Date', inplace=True)\n"
   ]
  },
  {
   "cell_type": "code",
   "execution_count": 15,
   "id": "a0a91f3d-48e0-4e2b-93ea-ee7ece20e023",
   "metadata": {},
   "outputs": [],
   "source": [
    "#Étape 3 : Créer la fonction update_types\n",
    "\n",
    "def update_types(df):\n",
    "    # Mettre à jour les types de colonnes\n",
    "    #df['Date'] = pd.to_datetime(df['Date'])  # Uncomment if needed\n",
    "    df['Global_active_power'] = pd.to_numeric(df['Global_active_power'], errors='coerce')\n",
    "    df['Global_reactive_power'] = pd.to_numeric(df['Global_reactive_power'], errors='coerce')\n",
    "    df['Voltage'] = pd.to_numeric(df['Voltage'], errors='coerce')\n",
    "    df['Global_intensity'] = pd.to_numeric(df['Global_intensity'], errors='coerce')\n",
    "    df['Sub_metering_1'] = pd.to_numeric(df['Sub_metering_1'], errors='coerce')\n",
    "    \n",
    "    return df\n",
    "\n",
    "# Appliquer la fonction\n",
    "df = update_types(df)\n"
   ]
  },
  {
   "cell_type": "code",
   "execution_count": 17,
   "id": "96082919-6d7c-47d0-b4ea-19c486e5e15b",
   "metadata": {},
   "outputs": [],
   "source": [
    "#Étape 4 : Supprimer les lignes avec des valeurs manquantes\n",
    "df.dropna(inplace=True)\n"
   ]
  },
  {
   "cell_type": "code",
   "execution_count": 18,
   "id": "d2348586-4f25-486f-afca-7563636f927e",
   "metadata": {},
   "outputs": [],
   "source": [
    "#Étape 5 : Modifier Sub_metering_1\n",
    "\n",
    "df['Sub_metering_1'] = (df['Sub_metering_1'] + 1) * 0.06\n"
   ]
  },
  {
   "cell_type": "code",
   "execution_count": 19,
   "id": "a1075e9c-659c-4e4b-81c2-df099f9ee621",
   "metadata": {},
   "outputs": [
    {
     "name": "stdout",
     "output_type": "stream",
     "text": [
      "            Global_active_power  Global_reactive_power  Voltage  \\\n",
      "Date                                                              \n",
      "2006-12-16                4.216                  0.418   234.84   \n",
      "2006-12-16                5.360                  0.436   233.63   \n",
      "2006-12-16                5.374                  0.498   233.29   \n",
      "2006-12-16                5.388                  0.502   233.74   \n",
      "2006-12-16                3.666                  0.528   235.68   \n",
      "\n",
      "            Global_intensity  Sub_metering_1  \n",
      "Date                                          \n",
      "2006-12-16              18.4            0.06  \n",
      "2006-12-16              23.0            0.06  \n",
      "2006-12-16              23.0            0.06  \n",
      "2006-12-16              23.0            0.06  \n",
      "2006-12-16              15.8            0.06  \n"
     ]
    }
   ],
   "source": [
    "print(df.head())"
   ]
  },
  {
   "cell_type": "code",
   "execution_count": 21,
   "id": "a4434e23-d60d-4be4-a601-54ddf8bde199",
   "metadata": {},
   "outputs": [
    {
     "data": {
      "text/html": [
       "<div>\n",
       "<style scoped>\n",
       "    .dataframe tbody tr th:only-of-type {\n",
       "        vertical-align: middle;\n",
       "    }\n",
       "\n",
       "    .dataframe tbody tr th {\n",
       "        vertical-align: top;\n",
       "    }\n",
       "\n",
       "    .dataframe thead th {\n",
       "        text-align: right;\n",
       "    }\n",
       "</style>\n",
       "<table border=\"1\" class=\"dataframe\">\n",
       "  <thead>\n",
       "    <tr style=\"text-align: right;\">\n",
       "      <th></th>\n",
       "      <th>Global_active_power</th>\n",
       "      <th>Global_reactive_power</th>\n",
       "      <th>Voltage</th>\n",
       "      <th>Global_intensity</th>\n",
       "      <th>Sub_metering_1</th>\n",
       "    </tr>\n",
       "    <tr>\n",
       "      <th>Date</th>\n",
       "      <th></th>\n",
       "      <th></th>\n",
       "      <th></th>\n",
       "      <th></th>\n",
       "      <th></th>\n",
       "    </tr>\n",
       "  </thead>\n",
       "  <tbody>\n",
       "    <tr>\n",
       "      <th>2008-12-27</th>\n",
       "      <td>0.996</td>\n",
       "      <td>0.066</td>\n",
       "      <td>244.81</td>\n",
       "      <td>4.0</td>\n",
       "      <td>0.06</td>\n",
       "    </tr>\n",
       "    <tr>\n",
       "      <th>2008-12-27</th>\n",
       "      <td>1.076</td>\n",
       "      <td>0.162</td>\n",
       "      <td>244.78</td>\n",
       "      <td>4.4</td>\n",
       "      <td>0.06</td>\n",
       "    </tr>\n",
       "    <tr>\n",
       "      <th>2008-12-27</th>\n",
       "      <td>1.064</td>\n",
       "      <td>0.172</td>\n",
       "      <td>244.74</td>\n",
       "      <td>4.4</td>\n",
       "      <td>0.06</td>\n",
       "    </tr>\n",
       "    <tr>\n",
       "      <th>2008-12-27</th>\n",
       "      <td>1.070</td>\n",
       "      <td>0.174</td>\n",
       "      <td>245.28</td>\n",
       "      <td>4.4</td>\n",
       "      <td>0.06</td>\n",
       "    </tr>\n",
       "    <tr>\n",
       "      <th>2008-12-27</th>\n",
       "      <td>0.804</td>\n",
       "      <td>0.184</td>\n",
       "      <td>246.30</td>\n",
       "      <td>3.4</td>\n",
       "      <td>0.06</td>\n",
       "    </tr>\n",
       "    <tr>\n",
       "      <th>...</th>\n",
       "      <td>...</td>\n",
       "      <td>...</td>\n",
       "      <td>...</td>\n",
       "      <td>...</td>\n",
       "      <td>...</td>\n",
       "    </tr>\n",
       "    <tr>\n",
       "      <th>2010-11-26</th>\n",
       "      <td>0.522</td>\n",
       "      <td>0.214</td>\n",
       "      <td>242.91</td>\n",
       "      <td>2.2</td>\n",
       "      <td>0.06</td>\n",
       "    </tr>\n",
       "    <tr>\n",
       "      <th>2010-11-26</th>\n",
       "      <td>0.518</td>\n",
       "      <td>0.214</td>\n",
       "      <td>242.55</td>\n",
       "      <td>2.2</td>\n",
       "      <td>0.06</td>\n",
       "    </tr>\n",
       "    <tr>\n",
       "      <th>2010-11-26</th>\n",
       "      <td>0.514</td>\n",
       "      <td>0.212</td>\n",
       "      <td>242.15</td>\n",
       "      <td>2.2</td>\n",
       "      <td>0.06</td>\n",
       "    </tr>\n",
       "    <tr>\n",
       "      <th>2010-11-26</th>\n",
       "      <td>0.514</td>\n",
       "      <td>0.218</td>\n",
       "      <td>242.57</td>\n",
       "      <td>2.2</td>\n",
       "      <td>0.06</td>\n",
       "    </tr>\n",
       "    <tr>\n",
       "      <th>2010-11-26</th>\n",
       "      <td>0.704</td>\n",
       "      <td>0.146</td>\n",
       "      <td>242.18</td>\n",
       "      <td>2.8</td>\n",
       "      <td>0.06</td>\n",
       "    </tr>\n",
       "  </tbody>\n",
       "</table>\n",
       "<p>449667 rows × 5 columns</p>\n",
       "</div>"
      ],
      "text/plain": [
       "            Global_active_power  Global_reactive_power  Voltage  \\\n",
       "Date                                                              \n",
       "2008-12-27                0.996                  0.066   244.81   \n",
       "2008-12-27                1.076                  0.162   244.78   \n",
       "2008-12-27                1.064                  0.172   244.74   \n",
       "2008-12-27                1.070                  0.174   245.28   \n",
       "2008-12-27                0.804                  0.184   246.30   \n",
       "...                         ...                    ...      ...   \n",
       "2010-11-26                0.522                  0.214   242.91   \n",
       "2010-11-26                0.518                  0.214   242.55   \n",
       "2010-11-26                0.514                  0.212   242.15   \n",
       "2010-11-26                0.514                  0.218   242.57   \n",
       "2010-11-26                0.704                  0.146   242.18   \n",
       "\n",
       "            Global_intensity  Sub_metering_1  \n",
       "Date                                          \n",
       "2008-12-27               4.0            0.06  \n",
       "2008-12-27               4.4            0.06  \n",
       "2008-12-27               4.4            0.06  \n",
       "2008-12-27               4.4            0.06  \n",
       "2008-12-27               3.4            0.06  \n",
       "...                      ...             ...  \n",
       "2010-11-26               2.2            0.06  \n",
       "2010-11-26               2.2            0.06  \n",
       "2010-11-26               2.2            0.06  \n",
       "2010-11-26               2.2            0.06  \n",
       "2010-11-26               2.8            0.06  \n",
       "\n",
       "[449667 rows x 5 columns]"
      ]
     },
     "execution_count": 21,
     "metadata": {},
     "output_type": "execute_result"
    }
   ],
   "source": [
    "#Étape 6 : Sélectionner les lignes avec des critères spécifiques\n",
    "filtered_df = df[(df.index >= '2008-12-27') & (df['Voltage'] >= 242)]\n",
    "filtered_df"
   ]
  },
  {
   "cell_type": "code",
   "execution_count": 22,
   "id": "504d78f0-6dc0-4a17-ab91-00b1cdefded3",
   "metadata": {},
   "outputs": [
    {
     "name": "stdout",
     "output_type": "stream",
     "text": [
      "Global_active_power        0.254\n",
      "Global_reactive_power      0.000\n",
      "Voltage                  238.100\n",
      "Global_intensity           1.200\n",
      "Sub_metering_1             0.060\n",
      "Name: 2007-02-16 00:00:00, dtype: float64\n"
     ]
    }
   ],
   "source": [
    "#Étape 7 : Imprimer la 88888ème ligne\n",
    "print(df.iloc[88887])\n"
   ]
  },
  {
   "cell_type": "code",
   "execution_count": 23,
   "id": "efb88250-cbb3-42b3-a966-8057579bcee7",
   "metadata": {},
   "outputs": [
    {
     "name": "stdout",
     "output_type": "stream",
     "text": [
      "La date avec le Global_active_power maximal est : 2009-02-22 00:00:00\n"
     ]
    }
   ],
   "source": [
    "#Étape 8 : Trouver la date avec le Global_active_power maximal\n",
    "max_power_date = df['Global_active_power'].idxmax()\n",
    "print(f\"La date avec le Global_active_power maximal est : {max_power_date}\")\n"
   ]
  },
  {
   "cell_type": "code",
   "execution_count": 24,
   "id": "f7177123-a604-43a9-aaf0-0630febb2772",
   "metadata": {},
   "outputs": [
    {
     "name": "stdout",
     "output_type": "stream",
     "text": [
      "            Global_active_power  Voltage  Sub_metering_1\n",
      "Date                                                    \n",
      "2009-02-22               11.122   229.78            2.16\n",
      "2007-03-04               10.670   230.20            2.28\n",
      "2007-03-04               10.650   229.97            2.22\n",
      "2009-02-22               10.536   230.24            1.44\n",
      "2008-11-30               10.348   231.60            2.22\n"
     ]
    }
   ],
   "source": [
    "#Étape 9 : Trier les trois premières colonnes\n",
    "\n",
    "# Trier par ordre croissant selon la colonne 'valeurs'\n",
    "#df_sorted_asc = df.sort_values(by='valeurs', ascending=True)\n",
    "sorted_df = df[['Global_active_power', 'Voltage', 'Sub_metering_1']].sort_values(by=['Global_active_power', 'Voltage'], ascending=[False, True])\n",
    "print(sorted_df.head())\n"
   ]
  },
  {
   "cell_type": "code",
   "execution_count": 25,
   "id": "4049f857-f001-4637-a243-87a87851b39f",
   "metadata": {},
   "outputs": [
    {
     "name": "stdout",
     "output_type": "stream",
     "text": [
      "Date\n",
      "2006-12-16    3.053475\n",
      "2006-12-17    2.354486\n",
      "2006-12-18    1.530435\n",
      "2006-12-19    1.157079\n",
      "2006-12-20    1.545658\n",
      "                ...   \n",
      "2010-11-22    1.417733\n",
      "2010-11-23    1.095511\n",
      "2010-11-24    1.247394\n",
      "2010-11-25    0.993864\n",
      "2010-11-26    1.178230\n",
      "Freq: D, Name: Global_active_power, Length: 1442, dtype: float64\n"
     ]
    }
   ],
   "source": [
    "#Étape 10 : Calculer la moyenne journalière de Global_active_power\n",
    "\n",
    "daily_avg_power = df['Global_active_power'].resample('D').mean()\n",
    "print(daily_avg_power)\n"
   ]
  },
  {
   "cell_type": "code",
   "execution_count": 26,
   "id": "729f7556-b73a-45ff-9a11-0633eacb1fec",
   "metadata": {},
   "outputs": [
    {
     "name": "stdout",
     "output_type": "stream",
     "text": [
      "                                             Address    Lot AM or PM  \\\n",
      "0  16629 Pace Camp Apt. 448\\nAlexisborough, NE 77...  46 in       PM   \n",
      "1  9374 Jasmine Spurs Suite 508\\nSouth John, TN 8...  28 rn       PM   \n",
      "2                   Unit 0065 Box 5052\\nDPO AP 27450  94 vE       PM   \n",
      "3              7780 Julia Fords\\nNew Stacy, WA 45798  36 vm       PM   \n",
      "4  23012 Munoz Drive Suite 337\\nNew Cynthia, TX 5...  20 IE       AM   \n",
      "\n",
      "                                        Browser Info  \\\n",
      "0  Opera/9.56.(X11; Linux x86_64; sl-SI) Presto/2...   \n",
      "1  Opera/8.93.(Windows 98; Win 9x 4.90; en-US) Pr...   \n",
      "2  Mozilla/5.0 (compatible; MSIE 9.0; Windows NT ...   \n",
      "3  Mozilla/5.0 (Macintosh; Intel Mac OS X 10_8_0 ...   \n",
      "4  Opera/9.58.(X11; Linux x86_64; it-IT) Presto/2...   \n",
      "\n",
      "                           Company       Credit Card CC Exp Date  \\\n",
      "0                  Martinez-Herman  6011929061123406       02/20   \n",
      "1  Fletcher, Richards and Whitaker  3337758169645356       11/18   \n",
      "2       Simpson, Williams and Pham      675957666125       08/19   \n",
      "3  Williams, Marshall and Buchanan  6011578504430710       02/24   \n",
      "4        Brown, Watson and Andrews  6011456623207998       10/25   \n",
      "\n",
      "   CC Security Code                  CC Provider  \\\n",
      "0               900                 JCB 16 digit   \n",
      "1               561                   Mastercard   \n",
      "2               699                 JCB 16 digit   \n",
      "3               384                     Discover   \n",
      "4               678  Diners Club / Carte Blanche   \n",
      "\n",
      "                            Email                                     Job  \\\n",
      "0               pdunlap@yahoo.com  Scientist, product/process development   \n",
      "1              anthony41@reed.com                       Drilling engineer   \n",
      "2  amymiller@morales-harrison.com                Customer service manager   \n",
      "3     brent16@olson-robinson.info                       Drilling engineer   \n",
      "4     christopherwright@gmail.com                             Fine artist   \n",
      "\n",
      "        IP Address Language  Purchase Price  \n",
      "0  149.146.147.205       el           98.14  \n",
      "1     15.160.41.51       fr           70.73  \n",
      "2   132.207.160.22       de            0.95  \n",
      "3     30.250.74.19       es           78.04  \n",
      "4     24.140.33.94       es           77.82  \n"
     ]
    }
   ],
   "source": [
    "#Exercice3\n",
    "\n",
    "#Étape 1 : Charger les données\n",
    "\n",
    "import pandas as pd\n",
    "\n",
    "# Charger l'ensemble de données (remplacez 'your_dataset.csv' par le chemin de votre fichier)\n",
    "df = pd.read_csv('Ecommerce_purchases.txt', sep=',',  dayfirst=True)\n",
    "\n",
    "# Afficher les premières lignes pour vérifier le chargement\n",
    "print(df.head())"
   ]
  },
  {
   "cell_type": "code",
   "execution_count": 27,
   "id": "562bb57f-6ddc-4f50-a5ff-9fc89d07bedf",
   "metadata": {},
   "outputs": [
    {
     "name": "stdout",
     "output_type": "stream",
     "text": [
      "Nombre de lignes et de colonnes : (10000, 14)\n"
     ]
    }
   ],
   "source": [
    "#2. Combien y a-t-il de lignes et de colonnes ?\n",
    "print(\"Nombre de lignes et de colonnes :\", df.shape)\n"
   ]
  },
  {
   "cell_type": "code",
   "execution_count": 28,
   "id": "2fa447fd-2c08-4676-a5a9-030e396cdf82",
   "metadata": {},
   "outputs": [
    {
     "name": "stdout",
     "output_type": "stream",
     "text": [
      "Prix d'achat moyen : 50.347302\n"
     ]
    }
   ],
   "source": [
    "#3. Quel est le prix d'achat moyen ?\n",
    "prix_moyen = df['Purchase Price'].mean()\n",
    "print(\"Prix d'achat moyen :\", prix_moyen)\n"
   ]
  },
  {
   "cell_type": "code",
   "execution_count": 29,
   "id": "49a0cc53-8df3-4a6f-8bba-744134266f44",
   "metadata": {},
   "outputs": [
    {
     "name": "stdout",
     "output_type": "stream",
     "text": [
      "Prix d'achat le plus élevé : 99.99\n",
      "Prix d'achat le plus bas : 0.0\n"
     ]
    }
   ],
   "source": [
    "#4. Quels étaient les prix d’achat les plus élevés et les plus bas ?\n",
    "prix_max = df['Purchase Price'].max()\n",
    "prix_min = df['Purchase Price'].min()\n",
    "print(\"Prix d'achat le plus élevé :\", prix_max)\n",
    "print(\"Prix d'achat le plus bas :\", prix_min)\n"
   ]
  },
  {
   "cell_type": "code",
   "execution_count": 30,
   "id": "95389bef-7520-4f9e-825a-bca188b466e0",
   "metadata": {},
   "outputs": [
    {
     "name": "stdout",
     "output_type": "stream",
     "text": [
      "Nombre de personnes ayant l'anglais comme langue de choix : 1098\n"
     ]
    }
   ],
   "source": [
    "#5. Combien de personnes ont l’anglais 'en' comme langue de choix sur le site Web ?\n",
    "count_english = df[df['Language'] == 'en'].shape[0]\n",
    "print(\"Nombre de personnes ayant l'anglais comme langue de choix :\", count_english)\n"
   ]
  },
  {
   "cell_type": "code",
   "execution_count": 31,
   "id": "7268b572-fcc6-48a7-bbae-27e4b514f862",
   "metadata": {},
   "outputs": [
    {
     "name": "stdout",
     "output_type": "stream",
     "text": [
      "Nombre de personnes ayant le titre de poste de Lawyer : 30\n"
     ]
    }
   ],
   "source": [
    "#6. Combien de personnes ont le titre de poste de \"Lawyer\" ?\n",
    "count_lawyer = df[df['Job'] == 'Lawyer'].shape[0]\n",
    "print(\"Nombre de personnes ayant le titre de poste de Lawyer :\", count_lawyer)\n"
   ]
  },
  {
   "cell_type": "code",
   "execution_count": 32,
   "id": "8caa935e-c0f9-4c48-9684-370387b7805a",
   "metadata": {},
   "outputs": [
    {
     "name": "stdout",
     "output_type": "stream",
     "text": [
      "Nombre de personnes ayant effectué un achat pendant AM : 4932\n",
      "Nombre de personnes ayant effectué un achat pendant PM : 5068\n"
     ]
    }
   ],
   "source": [
    "#7. Combien de personnes ont effectué l'achat pendant AM et combien pendant PM ?\n",
    "count_am = df[df['AM or PM'] == 'AM'].shape[0]\n",
    "count_pm = df[df['AM or PM'] == 'PM'].shape[0]\n",
    "print(\"Nombre de personnes ayant effectué un achat pendant AM :\", count_am)\n",
    "print(\"Nombre de personnes ayant effectué un achat pendant PM :\", count_pm)\n"
   ]
  },
  {
   "cell_type": "code",
   "execution_count": 33,
   "id": "69704f1a-a81e-461b-bc18-adfe72efd3a0",
   "metadata": {},
   "outputs": [
    {
     "name": "stdout",
     "output_type": "stream",
     "text": [
      "Cinq titres de poste les plus courants :\n",
      " Job\n",
      "Interior and spatial designer    31\n",
      "Lawyer                           30\n",
      "Social researcher                28\n",
      "Purchasing manager               27\n",
      "Designer, jewellery              27\n",
      "Name: count, dtype: int64\n"
     ]
    }
   ],
   "source": [
    "#8. Quels sont les 5 titres de poste les plus courants ?\n",
    "\n",
    "top_jobs = df['Job'].value_counts().head(5)\n",
    "print(\"Cinq titres de poste les plus courants :\\n\", top_jobs)\n"
   ]
  },
  {
   "cell_type": "code",
   "execution_count": 34,
   "id": "3c63ad3f-e455-4aa5-ae6d-a75604fbfe92",
   "metadata": {},
   "outputs": [
    {
     "name": "stdout",
     "output_type": "stream",
     "text": [
      "Prix d'achat pour le lot '90 WT' : 513    75.1\n",
      "Name: Purchase Price, dtype: float64\n"
     ]
    }
   ],
   "source": [
    "#9. Quelqu'un a effectué un achat provenant du lot : \"90 WT\", quel était le prix d'achat de cette transaction ?\n",
    "\n",
    "prix_90_WT = df[df['Lot'] == '90 WT']['Purchase Price']\n",
    "print(\"Prix d'achat pour le lot '90 WT' :\", prix_90_WT)\n"
   ]
  },
  {
   "cell_type": "code",
   "execution_count": 35,
   "id": "992eee40-2691-4802-99fb-e9d78efdcaac",
   "metadata": {},
   "outputs": [
    {
     "name": "stdout",
     "output_type": "stream",
     "text": [
      "Adresse e-mail de la personne avec ce numéro de carte de crédit : 1234    bondellen@williams-garza.com\n",
      "Name: Email, dtype: object\n"
     ]
    }
   ],
   "source": [
    "#10. Quelle est l'adresse e-mail de la personne avec le numéro de carte de crédit suivant : 4926535242672853 ?\n",
    "\n",
    "email_credit_card = df[df['Credit Card'] == 4926535242672853]['Email']\n",
    "print(\"Adresse e-mail de la personne avec ce numéro de carte de crédit :\", email_credit_card)\n"
   ]
  },
  {
   "cell_type": "code",
   "execution_count": 36,
   "id": "c9291d53-6346-4455-95b2-8fe9e27409fe",
   "metadata": {},
   "outputs": [
    {
     "name": "stdout",
     "output_type": "stream",
     "text": [
      "Nombre de personnes avec American Express et un achat supérieur à 95 $ : 39\n"
     ]
    }
   ],
   "source": [
    "#11. Combien de personnes ont American Express comme fournisseur de carte de crédit et ont effectué un achat supérieur à 95 $ ?\n",
    "\n",
    "count_amex_over_95 = df[(df['CC Provider'] == 'American Express') & (df['Purchase Price'] > 95)].shape[0]\n",
    "print(\"Nombre de personnes avec American Express et un achat supérieur à 95 $ :\", count_amex_over_95)\n"
   ]
  },
  {
   "cell_type": "code",
   "execution_count": 37,
   "id": "031bcd03-3f85-47a4-9732-fa515fbce2c3",
   "metadata": {},
   "outputs": [
    {
     "name": "stdout",
     "output_type": "stream",
     "text": [
      "Nombre de personnes avec une carte de crédit qui expire en 2025 : 0\n"
     ]
    }
   ],
   "source": [
    "#12. Combien de personnes possèdent une carte de crédit qui expire en 2025 ?\n",
    "\n",
    "count_expire_2025 = df[df['CC Exp Date'] == 2025].shape[0]\n",
    "print(\"Nombre de personnes avec une carte de crédit qui expire en 2025 :\", count_expire_2025)\n"
   ]
  },
  {
   "cell_type": "code",
   "execution_count": 38,
   "id": "9d322810-b8e9-4e26-b6fc-c61c8b5a16b1",
   "metadata": {},
   "outputs": [
    {
     "name": "stdout",
     "output_type": "stream",
     "text": [
      "Cinq fournisseurs de messagerie les plus populaires :\n",
      " Email\n",
      "hotmail.com     1638\n",
      "yahoo.com       1616\n",
      "gmail.com       1605\n",
      "smith.com         42\n",
      "williams.com      37\n",
      "Name: count, dtype: int64\n"
     ]
    }
   ],
   "source": [
    "#13. Quels sont les 5 fournisseurs/hébergeurs de messagerie les plus populaires ?\n",
    "email_providers = df['Email'].str.split('@').str[1].value_counts().head(5)\n",
    "print(\"Cinq fournisseurs de messagerie les plus populaires :\\n\", email_providers)\n"
   ]
  },
  {
   "cell_type": "code",
   "execution_count": 39,
   "id": "225e7551-3d13-4356-9681-1bdf723f8052",
   "metadata": {},
   "outputs": [
    {
     "name": "stdout",
     "output_type": "stream",
     "text": [
      "  sepal_length sepal_width petal_length petal_width       flower\n",
      "0          5.1         3.5          1.4         0.2  Iris-setosa\n",
      "1          4.9         3.0          1.4         0.2  Iris-setosa\n",
      "2          4.7         3.2          1.3         0.2  Iris-setosa\n",
      "3          4.6         3.1          1.5         0.2  Iris-setosa\n",
      "4          5.0        -3.6         -1.4         0.2  Iris-setosa\n"
     ]
    }
   ],
   "source": [
    "#Exercice 4\n",
    "#Étape 1 : Charger les données\n",
    "\n",
    "import pandas as pd\n",
    "\n",
    "# Charger l'ensemble de données (remplacez 'your_dataset.csv' par le chemin de votre fichier)\n",
    "df = pd.read_csv('iris.txt', sep=',',  dayfirst=True)\n",
    "\n",
    "# Afficher les premières lignes pour vérifier le chargement\n",
    "print(df.head())\n"
   ]
  },
  {
   "cell_type": "code",
   "execution_count": null,
   "id": "7fd8edc0-740e-4f31-9eb6-398f282834e2",
   "metadata": {},
   "outputs": [],
   "source": [
    "# Supprimer la colonne 'flower'\n",
    "df.drop('flower', axis=1, inplace=True)\n",
    "\n",
    "# Remplir les valeurs manquantes\n",
    "df['sepal_length'].fillna(df['sepal_length'].mean(), inplace=True)\n",
    "df['sepal_width'].fillna(df['sepal_width'].median(), inplace=True)\n",
    "df[['petal_length', 'petal_width']] = df[['petal_length', 'petal_width']].fillna(0)\n",
    "\n",
    "# Option pour utiliser la médiane avec fillna()\n",
    "df.fillna(df.median(), inplace=True)\n",
    "\n",
    "# Afficher le DataFrame mis à jour\n",
    "print(df)"
   ]
  }
 ],
 "metadata": {
  "kernelspec": {
   "display_name": "Python 3 (ipykernel)",
   "language": "python",
   "name": "python3"
  },
  "language_info": {
   "codemirror_mode": {
    "name": "ipython",
    "version": 3
   },
   "file_extension": ".py",
   "mimetype": "text/x-python",
   "name": "python",
   "nbconvert_exporter": "python",
   "pygments_lexer": "ipython3",
   "version": "3.8.19"
  }
 },
 "nbformat": 4,
 "nbformat_minor": 5
}
